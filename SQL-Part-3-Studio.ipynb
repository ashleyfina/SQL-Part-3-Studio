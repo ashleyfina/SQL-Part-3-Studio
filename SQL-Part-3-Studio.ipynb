{
    "metadata": {
        "kernelspec": {
            "name": "SQL",
            "display_name": "SQL",
            "language": "sql"
        },
        "language_info": {
            "name": "sql",
            "version": ""
        },
        "extensions": {
            "azuredatastudio": {
                "version": 1,
                "views": []
            }
        }
    },
    "nbformat_minor": 2,
    "nbformat": 4,
    "cells": [
        {
            "cell_type": "markdown",
            "source": [
                "# SQL Part 3 Studio\n",
                "\n",
                "### Let's practice your SQL quering skills!  For each question, work along in the notebook adding your query and answering the questions. \n",
                "\n",
                "### **DataSet**\n",
                "\n",
                "### <span style=\"font-size: 14px; font-family: -apple-system, BlinkMacSystemFont, sans-serif;\">We will be using the Goodbooks-10k dataset from the exercises in the prep work.&nbsp; Feel free reference your previous notebooks.</span>\n",
                "\n",
                "- The dataset can be found here: [goodbooks-10k](https://www.kaggle.com/zygmunt/goodbooks-10k)\n",
                "- You can access the **BooksDB** in the Launchcode server.\n",
                "\n",
                "### **Business Issue**\n",
                "\n",
                "You are an employee at a small independet bookstore and you have been tasked to increase sales.  You decide to use the BooksDB to find books and themes to highlight in fun promotions throughout each month / season.  We will be starting with March and then you will have a chance to explore another month of your choosing.  We want to come up with a list of events/ promotions to run each month.  If you are looking for ideas to include in your promotions:\n",
                "\n",
                "- [https://www.calendarr.com/united-states/calendar-2022/](https://www.calendarr.com/united-states/calendar-2022/)\n",
                "- [https://www.holidayinsights.com/moreholidays/](https://www.holidayinsights.com/moreholidays/)\n",
                "    - Click on a month and it will take you to a more detailed page"
            ],
            "metadata": {
                "azdata_cell_guid": "b9034d8a-b631-48bf-a895-1012a6ffa784"
            },
            "attachments": {}
        },
        {
            "cell_type": "markdown",
            "source": [
                "## Part 1:  March - Women's History Month, Dr Seuss Day(3/2), National Pie Day3/14, St Patrick's Day (3/17), Season - Spring"
            ],
            "metadata": {
                "azdata_cell_guid": "6e55eb1c-4a14-4076-90d2-95ed17a6309f"
            },
            "attachments": {}
        },
        {
            "cell_type": "markdown",
            "source": [
                "### **Event 1:** Women's History Month\n",
                "\n",
                "Goal: Highlight Popular Womans Authors based on ratings from the Good Reads DB.\n",
                "\n",
                "### **Write a query that returns tag\\_id, the number of times each tag\\_id is used and the tag\\_name.**  \n",
                "\n",
                "### Use the GROUP BY and HAVING clause to narrow your focus.\n",
                "\n",
                "Try multiple keywords, ie woman vs female (female ended up giving better results)"
            ],
            "metadata": {
                "azdata_cell_guid": "d220c097-e9cf-4edd-9abe-312d071217b7"
            },
            "attachments": {}
        },
        {
            "cell_type": "code",
            "source": [
                "-- Solution\r\n",
                "SELECT bt.tag_id, SUM(bt.tag_id) AS \"number of tags used\", t.tag_name\r\n",
                "FROM book_tags AS bt \r\n",
                "INNER JOIN tags as t \r\n",
                "ON bt.tag_id = t.tag_id\r\n",
                "GROUP BY bt.tag_id, t.tag_name\r\n",
                "HAVING t.tag_name LIKE '%female%'\r\n",
                "ORDER BY \"number of tags used\" DESC\r\n",
                ""
            ],
            "metadata": {
                "azdata_cell_guid": "e31b9d26-0386-44c7-828e-85f4f06f3ee6",
                "language": "sql"
            },
            "outputs": [
                {
                    "output_type": "display_data",
                    "data": {
                        "text/html": "(35 rows affected)"
                    },
                    "metadata": {}
                },
                {
                    "output_type": "display_data",
                    "data": {
                        "text/html": "Total execution time: 00:00:00.245"
                    },
                    "metadata": {}
                },
                {
                    "output_type": "execute_result",
                    "metadata": {},
                    "execution_count": 6,
                    "data": {
                        "application/vnd.dataresource+json": {
                            "schema": {
                                "fields": [
                                    {
                                        "name": "tag_id"
                                    },
                                    {
                                        "name": "number of tags used"
                                    },
                                    {
                                        "name": "tag_name"
                                    }
                                ]
                            },
                            "data": [
                                {
                                    "0": "11643",
                                    "1": "11608071",
                                    "2": "female-author"
                                },
                                {
                                    "0": "11644",
                                    "1": "8395324",
                                    "2": "female-authors"
                                },
                                {
                                    "0": "11658",
                                    "1": "1993518",
                                    "2": "female-protagonist"
                                },
                                {
                                    "0": "11646",
                                    "1": "372672",
                                    "2": "female-detective"
                                },
                                {
                                    "0": "28834",
                                    "1": "288340",
                                    "2": "strong-female-lead"
                                },
                                {
                                    "0": "11662",
                                    "1": "209916",
                                    "2": "female-writers"
                                },
                                {
                                    "0": "11656",
                                    "1": "198152",
                                    "2": "female-pov"
                                },
                                {
                                    "0": "11642",
                                    "1": "197914",
                                    "2": "female"
                                },
                                {
                                    "0": "11652",
                                    "1": "163128",
                                    "2": "female-lead"
                                },
                                {
                                    "0": "28830",
                                    "1": "115320",
                                    "2": "strong-female"
                                },
                                {
                                    "0": "11647",
                                    "1": "104823",
                                    "2": "female-detectives"
                                },
                                {
                                    "0": "28833",
                                    "1": "86499",
                                    "2": "strong-female-characters"
                                },
                                {
                                    "0": "11650",
                                    "1": "46600",
                                    "2": "female-friendship"
                                },
                                {
                                    "0": "3514",
                                    "1": "42168",
                                    "2": "author-female"
                                },
                                {
                                    "0": "29324",
                                    "1": "29324",
                                    "2": "tbr-ax-female"
                                },
                                {
                                    "0": "28836",
                                    "1": "28836",
                                    "2": "strong-female-supporting-characters"
                                },
                                {
                                    "0": "28835",
                                    "1": "28835",
                                    "2": "strong-female-protagonist"
                                },
                                {
                                    "0": "28832",
                                    "1": "28832",
                                    "2": "strong-female-character-s"
                                },
                                {
                                    "0": "28831",
                                    "1": "28831",
                                    "2": "strong-female-character"
                                },
                                {
                                    "0": "24455",
                                    "1": "24455",
                                    "2": "protagonist-female"
                                },
                                {
                                    "0": "11645",
                                    "1": "23290",
                                    "2": "female-biographies"
                                },
                                {
                                    "0": "17079",
                                    "1": "17079",
                                    "2": "kick-ass-female"
                                },
                                {
                                    "0": "15331",
                                    "1": "15331",
                                    "2": "important-female-authors"
                                },
                                {
                                    "0": "11661",
                                    "1": "11661",
                                    "2": "female-writer"
                                },
                                {
                                    "0": "11660",
                                    "1": "11660",
                                    "2": "female-spy"
                                },
                                {
                                    "0": "11659",
                                    "1": "11659",
                                    "2": "female-serial-killer"
                                },
                                {
                                    "0": "11657",
                                    "1": "11657",
                                    "2": "female-povs"
                                },
                                {
                                    "0": "11655",
                                    "1": "11655",
                                    "2": "female-pi"
                                },
                                {
                                    "0": "11654",
                                    "1": "11654",
                                    "2": "female-persuasion"
                                },
                                {
                                    "0": "11653",
                                    "1": "11653",
                                    "2": "female-main-character"
                                },
                                {
                                    "0": "11651",
                                    "1": "11651",
                                    "2": "female-genre-authors"
                                },
                                {
                                    "0": "11649",
                                    "1": "11649",
                                    "2": "female-fiction"
                                },
                                {
                                    "0": "11648",
                                    "1": "11648",
                                    "2": "female-doctor"
                                },
                                {
                                    "0": "4309",
                                    "1": "4309",
                                    "2": "best-adult-female-friendship-books"
                                },
                                {
                                    "0": "1741",
                                    "1": "1741",
                                    "2": "afghan-female-entrepreneur-under-ta"
                                }
                            ]
                        },
                        "text/html": [
                            "<table>",
                            "<tr><th>tag_id</th><th>number of tags used</th><th>tag_name</th></tr>",
                            "<tr><td>11643</td><td>11608071</td><td>female-author</td></tr>",
                            "<tr><td>11644</td><td>8395324</td><td>female-authors</td></tr>",
                            "<tr><td>11658</td><td>1993518</td><td>female-protagonist</td></tr>",
                            "<tr><td>11646</td><td>372672</td><td>female-detective</td></tr>",
                            "<tr><td>28834</td><td>288340</td><td>strong-female-lead</td></tr>",
                            "<tr><td>11662</td><td>209916</td><td>female-writers</td></tr>",
                            "<tr><td>11656</td><td>198152</td><td>female-pov</td></tr>",
                            "<tr><td>11642</td><td>197914</td><td>female</td></tr>",
                            "<tr><td>11652</td><td>163128</td><td>female-lead</td></tr>",
                            "<tr><td>28830</td><td>115320</td><td>strong-female</td></tr>",
                            "<tr><td>11647</td><td>104823</td><td>female-detectives</td></tr>",
                            "<tr><td>28833</td><td>86499</td><td>strong-female-characters</td></tr>",
                            "<tr><td>11650</td><td>46600</td><td>female-friendship</td></tr>",
                            "<tr><td>3514</td><td>42168</td><td>author-female</td></tr>",
                            "<tr><td>29324</td><td>29324</td><td>tbr-ax-female</td></tr>",
                            "<tr><td>28836</td><td>28836</td><td>strong-female-supporting-characters</td></tr>",
                            "<tr><td>28835</td><td>28835</td><td>strong-female-protagonist</td></tr>",
                            "<tr><td>28832</td><td>28832</td><td>strong-female-character-s</td></tr>",
                            "<tr><td>28831</td><td>28831</td><td>strong-female-character</td></tr>",
                            "<tr><td>24455</td><td>24455</td><td>protagonist-female</td></tr>",
                            "<tr><td>11645</td><td>23290</td><td>female-biographies</td></tr>",
                            "<tr><td>17079</td><td>17079</td><td>kick-ass-female</td></tr>",
                            "<tr><td>15331</td><td>15331</td><td>important-female-authors</td></tr>",
                            "<tr><td>11661</td><td>11661</td><td>female-writer</td></tr>",
                            "<tr><td>11660</td><td>11660</td><td>female-spy</td></tr>",
                            "<tr><td>11659</td><td>11659</td><td>female-serial-killer</td></tr>",
                            "<tr><td>11657</td><td>11657</td><td>female-povs</td></tr>",
                            "<tr><td>11655</td><td>11655</td><td>female-pi</td></tr>",
                            "<tr><td>11654</td><td>11654</td><td>female-persuasion</td></tr>",
                            "<tr><td>11653</td><td>11653</td><td>female-main-character</td></tr>",
                            "<tr><td>11651</td><td>11651</td><td>female-genre-authors</td></tr>",
                            "<tr><td>11649</td><td>11649</td><td>female-fiction</td></tr>",
                            "<tr><td>11648</td><td>11648</td><td>female-doctor</td></tr>",
                            "<tr><td>4309</td><td>4309</td><td>best-adult-female-friendship-books</td></tr>",
                            "<tr><td>1741</td><td>1741</td><td>afghan-female-entrepreneur-under-ta</td></tr>",
                            "</table>"
                        ]
                    }
                }
            ],
            "execution_count": 6
        },
        {
            "cell_type": "markdown",
            "source": [
                "### **Which keyword(s) and tag(s) would you like to explore more?**\n",
                "\n",
                "author-female"
            ],
            "metadata": {
                "azdata_cell_guid": "e9acd8b5-a62b-4ac0-bd07-19915b379ba6"
            },
            "attachments": {}
        },
        {
            "cell_type": "markdown",
            "source": [
                "### **Write a query to return authors, titles, ratings and** **selected tag(s)\\_id.**"
            ],
            "metadata": {
                "azdata_cell_guid": "59b84464-c0bc-4dac-9e02-0c803765b063"
            },
            "attachments": {}
        },
        {
            "cell_type": "code",
            "source": [
                "-- Solution\r\n",
                "\r\n",
                "SELECT b.authors, b.title, b.average_rating\r\n",
                "FROM books AS b \r\n",
                "INNER JOIN book_tags as bt \r\n",
                "ON b.book_id = bt.goodreads_book_id\r\n",
                "GROUP BY b.average_rating, b.authors, b.title\r\n",
                "HAVING bt.tag_id LIKE 42168\r\n",
                "ORDER BY b.average_rating DESC \r\n",
                ""
            ],
            "metadata": {
                "azdata_cell_guid": "51ffeaaf-6dde-4906-95f3-eb8757babf27",
                "tags": [],
                "language": "sql"
            },
            "outputs": [
                {
                    "output_type": "error",
                    "evalue": "Msg 8121, Level 16, State 1, Line 8\r\nColumn 'book_tags.tag_id' is invalid in the HAVING clause because it is not contained in either an aggregate function or the GROUP BY clause.",
                    "ename": "",
                    "traceback": []
                },
                {
                    "output_type": "display_data",
                    "data": {
                        "text/html": "Total execution time: 00:00:00.043"
                    },
                    "metadata": {}
                }
            ],
            "execution_count": 11
        },
        {
            "cell_type": "markdown",
            "source": [
                "### **Record your thoughts about why you wrote the query the way you did.**"
            ],
            "metadata": {
                "azdata_cell_guid": "1e19a72c-1bca-446b-a0c7-a8efbc35dcf1"
            },
            "attachments": {}
        },
        {
            "cell_type": "markdown",
            "source": [
                "# Part 2: Choose Another Month\n",
                "\n",
                "Choose another month and plan at least 2 events / promotions and answer the following questions.\n",
                "\n",
                "Which month did you choose?  \n",
                "\n",
                "What 2 events / promotions are you highlighting?\n",
                "\n",
                "> 1.\n",
                "\n",
                "> 2."
            ],
            "metadata": {
                "azdata_cell_guid": "3eaf376d-9de3-4553-a9d0-9caf74ee3d6a"
            },
            "attachments": {}
        },
        {
            "cell_type": "markdown",
            "source": [
                "# Part 3: Summarize your Work\n",
                "\n",
                "For each event write at least one query that joins any two tables in the BooksDB to support your choice and record you thoughts as to why you used the paticlular query. At least one of your queries needs to include a HAVING clause."
            ],
            "metadata": {
                "azdata_cell_guid": "1ba1363a-4f02-4962-a95a-93b80c5926b1"
            },
            "attachments": {}
        },
        {
            "cell_type": "code",
            "source": [
                "-- Event 1 Query"
            ],
            "metadata": {
                "azdata_cell_guid": "f50d32ce-4cb2-4af2-acb1-607777a76cf8",
                "language": "sql"
            },
            "outputs": [],
            "execution_count": null
        },
        {
            "cell_type": "code",
            "source": [
                ""
            ],
            "metadata": {
                "azdata_cell_guid": "5606f7f2-c46b-42d3-ac64-7ae21c3394f8",
                "language": "sql"
            },
            "outputs": [],
            "execution_count": null
        },
        {
            "cell_type": "markdown",
            "source": [
                "### **Summary of event 1:**\n",
                "\n",
                "Double Click to edit."
            ],
            "metadata": {
                "azdata_cell_guid": "3bc72d4c-077b-42d3-9528-9aff8e7b6cf3"
            },
            "attachments": {}
        },
        {
            "cell_type": "code",
            "source": [
                "-- Event 2 Query\r\n",
                "\r\n",
                "SELECT b.title, b.average_rating, t.tag_name\r\n",
                "FROM books as b \r\n",
                "INNER JOIN book_tags as bt \r\n",
                "ON b.book_id = bt.goodreads_book_id \r\n",
                "INNER JOIN tags AS t\r\n",
                "ON bt.tag_id = t.tag_id\r\n",
                "GROUP BY b.title, b.average_rating, t.tag_name\r\n",
                "HAVING t.tag_name LIKE '%irish%'\r\n",
                "ORDER BY b.average_rating DESC"
            ],
            "metadata": {
                "azdata_cell_guid": "dca0a98f-065f-4b0e-9d93-fcb01cad668c",
                "language": "sql"
            },
            "outputs": [
                {
                    "output_type": "display_data",
                    "data": {
                        "text/html": "(274 rows affected)"
                    },
                    "metadata": {}
                },
                {
                    "output_type": "display_data",
                    "data": {
                        "text/html": "Total execution time: 00:00:00.339"
                    },
                    "metadata": {}
                },
                {
                    "output_type": "execute_result",
                    "metadata": {},
                    "execution_count": 16,
                    "data": {
                        "application/vnd.dataresource+json": {
                            "schema": {
                                "fields": [
                                    {
                                        "name": "title"
                                    },
                                    {
                                        "name": "average_rating"
                                    },
                                    {
                                        "name": "tag_name"
                                    }
                                ]
                            },
                            "data": [
                                {
                                    "0": "Sherlock Holmes and the Case of the Hound of the Baskervilles (Illustrated Classic Editions)",
                                    "1": "4.49",
                                    "2": "mysteries-british-irish-scottish"
                                },
                                {
                                    "0": "The Complete Works",
                                    "1": "4.49",
                                    "2": "classic-british-irish-lit"
                                },
                                {
                                    "0": "Complete Works of Oscar Wilde",
                                    "1": "4.45",
                                    "2": "irish"
                                },
                                {
                                    "0": "Complete Works of Oscar Wilde",
                                    "1": "4.45",
                                    "2": "irish-lit"
                                },
                                {
                                    "0": "Complete Works of Oscar Wilde",
                                    "1": "4.45",
                                    "2": "irish-literature"
                                },
                                {
                                    "0": "Dark Days (Skulduggery Pleasant, #4)",
                                    "1": "4.45",
                                    "2": "irish"
                                },
                                {
                                    "0": "Son of the Shadows (Sevenwaters, #2)",
                                    "1": "4.32",
                                    "2": "irish"
                                },
                                {
                                    "0": "The Importance of Being Earnest and Other Plays",
                                    "1": "4.26",
                                    "2": "irish"
                                },
                                {
                                    "0": "The Importance of Being Earnest and Other Plays",
                                    "1": "4.26",
                                    "2": "irish-lit"
                                },
                                {
                                    "0": "The Importance of Being Earnest and Other Plays",
                                    "1": "4.26",
                                    "2": "irish-literature"
                                },
                                {
                                    "0": "The Collected Poems of W.B. Yeats",
                                    "1": "4.25",
                                    "2": "irish"
                                },
                                {
                                    "0": "The Collected Poems of W.B. Yeats",
                                    "1": "4.25",
                                    "2": "irish-lit"
                                },
                                {
                                    "0": "The Collected Poems of W.B. Yeats",
                                    "1": "4.25",
                                    "2": "irish-literature"
                                },
                                {
                                    "0": "Trinity",
                                    "1": "4.23",
                                    "2": "irish"
                                },
                                {
                                    "0": "Trinity",
                                    "1": "4.23",
                                    "2": "irish-fiction"
                                },
                                {
                                    "0": "Trinity",
                                    "1": "4.23",
                                    "2": "irish-history"
                                },
                                {
                                    "0": "Trinity",
                                    "1": "4.23",
                                    "2": "irish-lit"
                                },
                                {
                                    "0": "Trinity",
                                    "1": "4.23",
                                    "2": "irish-literature"
                                },
                                {
                                    "0": "Jewels of the Sun (Gallaghers of Ardmore, #1)",
                                    "1": "4.22",
                                    "2": "irish"
                                },
                                {
                                    "0": "The Happy Prince",
                                    "1": "4.22",
                                    "2": "irish"
                                },
                                {
                                    "0": "The Happy Prince",
                                    "1": "4.22",
                                    "2": "irish-authors"
                                },
                                {
                                    "0": "The Happy Prince",
                                    "1": "4.22",
                                    "2": "irish-literature"
                                },
                                {
                                    "0": "Born in Fire (Born In Trilogy, #1)",
                                    "1": "4.21",
                                    "2": "irish"
                                },
                                {
                                    "0": "Tears of the Moon (Gallaghers of Ardmore / Irish Trilogy, #2)",
                                    "1": "4.19",
                                    "2": "irish"
                                },
                                {
                                    "0": "The Importance of Being Earnest",
                                    "1": "4.17",
                                    "2": "irish"
                                },
                                {
                                    "0": "The Importance of Being Earnest",
                                    "1": "4.17",
                                    "2": "irish-literature"
                                },
                                {
                                    "0": "Airman",
                                    "1": "4.14",
                                    "2": "irish"
                                },
                                {
                                    "0": "Heart of the Sea (Gallaghers of Ardmore / Irish Trilogy, #3)",
                                    "1": "4.14",
                                    "2": "irish"
                                },
                                {
                                    "0": "Born in Ice (Born In Trilogy, #2)",
                                    "1": "4.13",
                                    "2": "irish"
                                },
                                {
                                    "0": "The Picture of Dorian Gray: A Graphic Novel",
                                    "1": "4.12",
                                    "2": "irish-pleasure"
                                },
                                {
                                    "0": "Captains and the Kings",
                                    "1": "4.11",
                                    "2": "irish-americans"
                                },
                                {
                                    "0": "The Boy in the Striped Pajamas",
                                    "1": "4.1",
                                    "2": "irish"
                                },
                                {
                                    "0": "The Dead",
                                    "1": "4.09",
                                    "2": "british-irish"
                                },
                                {
                                    "0": "The Dead",
                                    "1": "4.09",
                                    "2": "irish"
                                },
                                {
                                    "0": "The Dead",
                                    "1": "4.09",
                                    "2": "irish-lit"
                                },
                                {
                                    "0": "The Dead",
                                    "1": "4.09",
                                    "2": "irish-literature"
                                },
                                {
                                    "0": "All Souls: A Family Story from Southie",
                                    "1": "4.07",
                                    "2": "irish"
                                },
                                {
                                    "0": "All Souls: A Family Story from Southie",
                                    "1": "4.07",
                                    "2": "irish-americans"
                                },
                                {
                                    "0": "Angela's Ashes (Frank McCourt, #1)",
                                    "1": "4.07",
                                    "2": "irish"
                                },
                                {
                                    "0": "Angela's Ashes (Frank McCourt, #1)",
                                    "1": "4.07",
                                    "2": "irish-lit"
                                },
                                {
                                    "0": "Angela's Ashes (Frank McCourt, #1)",
                                    "1": "4.07",
                                    "2": "irish-literature"
                                },
                                {
                                    "0": "Born in Shame (Born In Trilogy, #3)",
                                    "1": "4.07",
                                    "2": "irish"
                                },
                                {
                                    "0": "The Picture of Dorian Gray",
                                    "1": "4.06",
                                    "2": "irish"
                                },
                                {
                                    "0": "The Picture of Dorian Gray",
                                    "1": "4.06",
                                    "2": "irish-literature"
                                },
                                {
                                    "0": "A Modest Proposal",
                                    "1": "4.05",
                                    "2": "irish"
                                },
                                {
                                    "0": "A Modest Proposal",
                                    "1": "4.05",
                                    "2": "irish-lit"
                                },
                                {
                                    "0": "A Modest Proposal",
                                    "1": "4.05",
                                    "2": "irish-literature"
                                },
                                {
                                    "0": "The Likeness (Dublin Murder Squad, #2)",
                                    "1": "4.05",
                                    "2": "irish"
                                },
                                {
                                    "0": "A Modest Proposal and Other Satirical Works",
                                    "1": "4.04",
                                    "2": "irish"
                                },
                                {
                                    "0": "A Modest Proposal and Other Satirical Works",
                                    "1": "4.04",
                                    "2": "irish-lit"
                                },
                                {
                                    "0": "A Modest Proposal and Other Satirical Works",
                                    "1": "4.04",
                                    "2": "irish-literature"
                                },
                                {
                                    "0": "The Opal Deception  (Artemis Fowl, #4)",
                                    "1": "4.04",
                                    "2": "irish"
                                },
                                {
                                    "0": "An Ideal Husband",
                                    "1": "4.03",
                                    "2": "irish"
                                },
                                {
                                    "0": "An Ideal Husband",
                                    "1": "4.03",
                                    "2": "irish-lit"
                                },
                                {
                                    "0": "An Ideal Husband",
                                    "1": "4.03",
                                    "2": "irish-literature"
                                },
                                {
                                    "0": "How to Fall in Love",
                                    "1": "4.02",
                                    "2": "irish"
                                },
                                {
                                    "0": "How to Fall in Love",
                                    "1": "4.02",
                                    "2": "irish-authors"
                                },
                                {
                                    "0": "The Third Policeman",
                                    "1": "4.02",
                                    "2": "irish"
                                },
                                {
                                    "0": "The Third Policeman",
                                    "1": "4.02",
                                    "2": "irish-authors"
                                },
                                {
                                    "0": "The Third Policeman",
                                    "1": "4.02",
                                    "2": "irish-fiction"
                                },
                                {
                                    "0": "The Third Policeman",
                                    "1": "4.02",
                                    "2": "irish-lit"
                                },
                                {
                                    "0": "The Third Policeman",
                                    "1": "4.02",
                                    "2": "irish-literature"
                                },
                                {
                                    "0": "P.S. I Love You",
                                    "1": "4.01",
                                    "2": "irish"
                                },
                                {
                                    "0": "Pygmalion and Three Other Plays",
                                    "1": "4.01",
                                    "2": "irish"
                                },
                                {
                                    "0": "Pygmalion and Three Other Plays",
                                    "1": "4.01",
                                    "2": "irish-literature"
                                },
                                {
                                    "0": "The Lost Colony (Artemis Fowl, #5)",
                                    "1": "4.01",
                                    "2": "irish"
                                },
                                {
                                    "0": "Circle of Friends",
                                    "1": "4",
                                    "2": "irish"
                                },
                                {
                                    "0": "Circle of Friends",
                                    "1": "4",
                                    "2": "irish-authors"
                                },
                                {
                                    "0": "Circle of Friends",
                                    "1": "4",
                                    "2": "irish-fiction"
                                },
                                {
                                    "0": "Circle of Friends",
                                    "1": "4",
                                    "2": "irish-lit"
                                },
                                {
                                    "0": "Circle of Friends",
                                    "1": "4",
                                    "2": "irish-literature"
                                },
                                {
                                    "0": "Dracula",
                                    "1": "3.98",
                                    "2": "irish"
                                },
                                {
                                    "0": "Evening Class",
                                    "1": "3.98",
                                    "2": "ireland-irish"
                                },
                                {
                                    "0": "Evening Class",
                                    "1": "3.98",
                                    "2": "irish"
                                },
                                {
                                    "0": "Evening Class",
                                    "1": "3.98",
                                    "2": "irish-author"
                                },
                                {
                                    "0": "Evening Class",
                                    "1": "3.98",
                                    "2": "irish-authors"
                                },
                                {
                                    "0": "Evening Class",
                                    "1": "3.98",
                                    "2": "irish-books"
                                },
                                {
                                    "0": "Evening Class",
                                    "1": "3.98",
                                    "2": "irish-fiction"
                                },
                                {
                                    "0": "Evening Class",
                                    "1": "3.98",
                                    "2": "irish-literature"
                                },
                                {
                                    "0": "The Book of Lost Things",
                                    "1": "3.98",
                                    "2": "irish"
                                },
                                {
                                    "0": "The Trespasser (Dublin Murder Squad #6)",
                                    "1": "3.98",
                                    "2": "irish"
                                },
                                {
                                    "0": "Faithful Place (Dublin Murder Squad, #3)",
                                    "1": "3.97",
                                    "2": "irish"
                                },
                                {
                                    "0": "Love, Rosie",
                                    "1": "3.95",
                                    "2": "irish"
                                },
                                {
                                    "0": "The Commitments",
                                    "1": "3.95",
                                    "2": "irish"
                                },
                                {
                                    "0": "The Commitments",
                                    "1": "3.95",
                                    "2": "irish-authors"
                                },
                                {
                                    "0": "The Commitments",
                                    "1": "3.95",
                                    "2": "irish-fiction"
                                },
                                {
                                    "0": "The Commitments",
                                    "1": "3.95",
                                    "2": "irish-lit"
                                },
                                {
                                    "0": "The Commitments",
                                    "1": "3.95",
                                    "2": "irish-literature"
                                },
                                {
                                    "0": "The Arctic Incident (Artemis Fowl, #2)",
                                    "1": "3.94",
                                    "2": "irish"
                                },
                                {
                                    "0": "Let the Great World Spin",
                                    "1": "3.93",
                                    "2": "irish"
                                },
                                {
                                    "0": "Rachel's Holiday (Walsh Family, #2)",
                                    "1": "3.93",
                                    "2": "irish"
                                },
                                {
                                    "0": "Rachel's Holiday (Walsh Family, #2)",
                                    "1": "3.93",
                                    "2": "irish-authors"
                                },
                                {
                                    "0": "Rachel's Holiday (Walsh Family, #2)",
                                    "1": "3.93",
                                    "2": "irish-chick-lit"
                                },
                                {
                                    "0": "Scarlet Feather",
                                    "1": "3.93",
                                    "2": "irish"
                                },
                                {
                                    "0": "Scarlet Feather",
                                    "1": "3.93",
                                    "2": "irish-authors"
                                },
                                {
                                    "0": "Scarlet Feather",
                                    "1": "3.93",
                                    "2": "irish-fiction"
                                },
                                {
                                    "0": "Scarlet Feather",
                                    "1": "3.93",
                                    "2": "irish-lit"
                                },
                                {
                                    "0": "Broken Harbour (Dublin Murder Squad, #4)",
                                    "1": "3.92",
                                    "2": "irish"
                                },
                                {
                                    "0": "Anybody Out There? (Walsh Family, #4)",
                                    "1": "3.91",
                                    "2": "irish"
                                },
                                {
                                    "0": "Anybody Out There? (Walsh Family, #4)",
                                    "1": "3.91",
                                    "2": "irish-chick-lit"
                                },
                                {
                                    "0": "Lady Windermere's Fan",
                                    "1": "3.9",
                                    "2": "irish"
                                },
                                {
                                    "0": "Lady Windermere's Fan",
                                    "1": "3.9",
                                    "2": "irish-lit"
                                },
                                {
                                    "0": "Lady Windermere's Fan",
                                    "1": "3.9",
                                    "2": "irish-literature"
                                },
                                {
                                    "0": "Pygmalion",
                                    "1": "3.9",
                                    "2": "irish"
                                },
                                {
                                    "0": "Pygmalion",
                                    "1": "3.9",
                                    "2": "irish-literature"
                                },
                                {
                                    "0": "The Sea, the Sea",
                                    "1": "3.9",
                                    "2": "irish"
                                },
                                {
                                    "0": "The Sea, the Sea",
                                    "1": "3.9",
                                    "2": "irish-lit"
                                },
                                {
                                    "0": "The Sea, the Sea",
                                    "1": "3.9",
                                    "2": "irish-literature"
                                },
                                {
                                    "0": "The Canterville Ghost",
                                    "1": "3.89",
                                    "2": "irish"
                                },
                                {
                                    "0": "The Canterville Ghost",
                                    "1": "3.89",
                                    "2": "irish-literature"
                                },
                                {
                                    "0": "The Copper Beech",
                                    "1": "3.89",
                                    "2": "irish"
                                },
                                {
                                    "0": "The Copper Beech",
                                    "1": "3.89",
                                    "2": "irish-author"
                                },
                                {
                                    "0": "The Copper Beech",
                                    "1": "3.89",
                                    "2": "irish-authors"
                                },
                                {
                                    "0": "The Copper Beech",
                                    "1": "3.89",
                                    "2": "irish-fiction"
                                },
                                {
                                    "0": "The Copper Beech",
                                    "1": "3.89",
                                    "2": "irish-literature"
                                },
                                {
                                    "0": "The Glass Lake",
                                    "1": "3.89",
                                    "2": "irish"
                                },
                                {
                                    "0": "The Glass Lake",
                                    "1": "3.89",
                                    "2": "irish-authors"
                                },
                                {
                                    "0": "The Glass Lake",
                                    "1": "3.89",
                                    "2": "irish-books"
                                },
                                {
                                    "0": "The Glass Lake",
                                    "1": "3.89",
                                    "2": "irish-fiction"
                                },
                                {
                                    "0": "Light a Penny Candle",
                                    "1": "3.88",
                                    "2": "irish"
                                },
                                {
                                    "0": "Light a Penny Candle",
                                    "1": "3.88",
                                    "2": "irish-authors"
                                },
                                {
                                    "0": "Light a Penny Candle",
                                    "1": "3.88",
                                    "2": "irish-fiction"
                                },
                                {
                                    "0": "Light a Penny Candle",
                                    "1": "3.88",
                                    "2": "irish-lit"
                                },
                                {
                                    "0": "Light a Penny Candle",
                                    "1": "3.88",
                                    "2": "irish-literature"
                                },
                                {
                                    "0": "Quentins",
                                    "1": "3.88",
                                    "2": "irish"
                                },
                                {
                                    "0": "Quentins",
                                    "1": "3.88",
                                    "2": "irish-author"
                                },
                                {
                                    "0": "Quentins",
                                    "1": "3.88",
                                    "2": "irish-books"
                                },
                                {
                                    "0": "Quentins",
                                    "1": "3.88",
                                    "2": "irish-fiction"
                                },
                                {
                                    "0": "Quentins",
                                    "1": "3.88",
                                    "2": "irish-lit"
                                },
                                {
                                    "0": "Quentins",
                                    "1": "3.88",
                                    "2": "irish-literature"
                                },
                                {
                                    "0": "Quentins",
                                    "1": "3.88",
                                    "2": "irish-writers"
                                },
                                {
                                    "0": "Tara Road",
                                    "1": "3.88",
                                    "2": "irish"
                                },
                                {
                                    "0": "Tara Road",
                                    "1": "3.88",
                                    "2": "irish-authors"
                                },
                                {
                                    "0": "Tara Road",
                                    "1": "3.88",
                                    "2": "irish-fiction"
                                },
                                {
                                    "0": "Tara Road",
                                    "1": "3.88",
                                    "2": "irish-lit"
                                },
                                {
                                    "0": "Tara Road",
                                    "1": "3.88",
                                    "2": "irish-literature"
                                },
                                {
                                    "0": "The Hand That First Held Mine",
                                    "1": "3.87",
                                    "2": "irish"
                                },
                                {
                                    "0": "Dubliners",
                                    "1": "3.85",
                                    "2": "irish"
                                },
                                {
                                    "0": "Dubliners",
                                    "1": "3.85",
                                    "2": "irish-authors"
                                },
                                {
                                    "0": "Dubliners",
                                    "1": "3.85",
                                    "2": "irish-lit"
                                },
                                {
                                    "0": "Dubliners",
                                    "1": "3.85",
                                    "2": "irish-literature"
                                },
                                {
                                    "0": "The Time of My Life",
                                    "1": "3.85",
                                    "2": "irish"
                                },
                                {
                                    "0": "If You Could See Me Now",
                                    "1": "3.84",
                                    "2": "irish"
                                },
                                {
                                    "0": "If You Could See Me Now",
                                    "1": "3.84",
                                    "2": "irish-lit"
                                },
                                {
                                    "0": "Carmilla",
                                    "1": "3.83",
                                    "2": "irish"
                                },
                                {
                                    "0": "Carmilla",
                                    "1": "3.83",
                                    "2": "irish-literature"
                                },
                                {
                                    "0": "The Girl Who Came Home",
                                    "1": "3.83",
                                    "2": "irish"
                                },
                                {
                                    "0": "The Secret Place (Dublin Murder Squad, #5)",
                                    "1": "3.83",
                                    "2": "irish"
                                },
                                {
                                    "0": "How the Irish Saved Civilization",
                                    "1": "3.81",
                                    "2": "celtic-irish"
                                },
                                {
                                    "0": "How the Irish Saved Civilization",
                                    "1": "3.81",
                                    "2": "irish"
                                },
                                {
                                    "0": "How the Irish Saved Civilization",
                                    "1": "3.81",
                                    "2": "irish-history"
                                },
                                {
                                    "0": "How the Irish Saved Civilization",
                                    "1": "3.81",
                                    "2": "irish-lit"
                                },
                                {
                                    "0": "King Henry IV, Part 1 (Wars of the Roses, #2)",
                                    "1": "3.81",
                                    "2": "irish"
                                },
                                {
                                    "0": "TransAtlantic",
                                    "1": "3.81",
                                    "2": "irish"
                                },
                                {
                                    "0": "TransAtlantic",
                                    "1": "3.81",
                                    "2": "irish-authors"
                                },
                                {
                                    "0": "TransAtlantic",
                                    "1": "3.81",
                                    "2": "irish-fiction"
                                },
                                {
                                    "0": "TransAtlantic",
                                    "1": "3.81",
                                    "2": "irish-lit"
                                },
                                {
                                    "0": "TransAtlantic",
                                    "1": "3.81",
                                    "2": "irish-literature"
                                },
                                {
                                    "0": "Waiting for Godot",
                                    "1": "3.81",
                                    "2": "irish"
                                },
                                {
                                    "0": "Waiting for Godot",
                                    "1": "3.81",
                                    "2": "irish-lit"
                                },
                                {
                                    "0": "Waiting for Godot",
                                    "1": "3.81",
                                    "2": "irish-literature"
                                },
                                {
                                    "0": "A Week in Winter",
                                    "1": "3.79",
                                    "2": "irish"
                                },
                                {
                                    "0": "A Week in Winter",
                                    "1": "3.79",
                                    "2": "irish-fiction"
                                },
                                {
                                    "0": "Watermelon (Walsh Family, #1)",
                                    "1": "3.79",
                                    "2": "irish"
                                },
                                {
                                    "0": "Last Chance Saloon",
                                    "1": "3.78",
                                    "2": "irish"
                                },
                                {
                                    "0": "Last Chance Saloon",
                                    "1": "3.78",
                                    "2": "irish-chick-lit"
                                },
                                {
                                    "0": "Minding Frankie",
                                    "1": "3.78",
                                    "2": "irish"
                                },
                                {
                                    "0": "Minding Frankie",
                                    "1": "3.78",
                                    "2": "irish-books"
                                },
                                {
                                    "0": "Minding Frankie",
                                    "1": "3.78",
                                    "2": "irish-fiction"
                                },
                                {
                                    "0": "Round Ireland with a Fridge",
                                    "1": "3.78",
                                    "2": "irish"
                                },
                                {
                                    "0": "The Other Side of the Story",
                                    "1": "3.77",
                                    "2": "irish"
                                },
                                {
                                    "0": "The Other Side of the Story",
                                    "1": "3.77",
                                    "2": "irish-chick-lit"
                                },
                                {
                                    "0": "Someone",
                                    "1": "3.76",
                                    "2": "irish"
                                },
                                {
                                    "0": "Under the Net",
                                    "1": "3.76",
                                    "2": "irish"
                                },
                                {
                                    "0": "Under the Net",
                                    "1": "3.76",
                                    "2": "irish-literature"
                                },
                                {
                                    "0": "One Hundred Names",
                                    "1": "3.75",
                                    "2": "irish"
                                },
                                {
                                    "0": "Paddy Clarke Ha Ha Ha",
                                    "1": "3.75",
                                    "2": "irish"
                                },
                                {
                                    "0": "Paddy Clarke Ha Ha Ha",
                                    "1": "3.75",
                                    "2": "irish-authors"
                                },
                                {
                                    "0": "Paddy Clarke Ha Ha Ha",
                                    "1": "3.75",
                                    "2": "irish-fiction"
                                },
                                {
                                    "0": "Paddy Clarke Ha Ha Ha",
                                    "1": "3.75",
                                    "2": "irish-lit"
                                },
                                {
                                    "0": "Paddy Clarke Ha Ha Ha",
                                    "1": "3.75",
                                    "2": "irish-literature"
                                },
                                {
                                    "0": "The Secret Scripture",
                                    "1": "3.75",
                                    "2": "irish"
                                },
                                {
                                    "0": "The Secret Scripture",
                                    "1": "3.75",
                                    "2": "irish-authors"
                                },
                                {
                                    "0": "The Secret Scripture",
                                    "1": "3.75",
                                    "2": "irish-fiction"
                                },
                                {
                                    "0": "The Secret Scripture",
                                    "1": "3.75",
                                    "2": "irish-lit"
                                },
                                {
                                    "0": "The Secret Scripture",
                                    "1": "3.75",
                                    "2": "irish-literature"
                                },
                                {
                                    "0": "This Charming Man",
                                    "1": "3.75",
                                    "2": "irish"
                                },
                                {
                                    "0": "This Charming Man",
                                    "1": "3.75",
                                    "2": "irish-authors"
                                },
                                {
                                    "0": "This Charming Man",
                                    "1": "3.75",
                                    "2": "irish-chick-lit"
                                },
                                {
                                    "0": "This Charming Man",
                                    "1": "3.75",
                                    "2": "irish-literature"
                                },
                                {
                                    "0": "In the Woods (Dublin Murder Squad, #1)",
                                    "1": "3.74",
                                    "2": "irish"
                                },
                                {
                                    "0": "Lucy Sullivan Is Getting Married",
                                    "1": "3.74",
                                    "2": "irish"
                                },
                                {
                                    "0": "Lucy Sullivan Is Getting Married",
                                    "1": "3.74",
                                    "2": "irish-authors"
                                },
                                {
                                    "0": "Lucy Sullivan Is Getting Married",
                                    "1": "3.74",
                                    "2": "irish-chick-lit"
                                },
                                {
                                    "0": "The Life and Opinions of Tristram Shandy, Gentleman",
                                    "1": "3.74",
                                    "2": "irish"
                                },
                                {
                                    "0": "Ulysses",
                                    "1": "3.74",
                                    "2": "irish"
                                },
                                {
                                    "0": "Ulysses",
                                    "1": "3.74",
                                    "2": "irish-lit"
                                },
                                {
                                    "0": "Ulysses",
                                    "1": "3.74",
                                    "2": "irish-literature"
                                },
                                {
                                    "0": " Angels (Walsh Family, #3)",
                                    "1": "3.73",
                                    "2": "irish"
                                },
                                {
                                    "0": " Angels (Walsh Family, #3)",
                                    "1": "3.73",
                                    "2": "irish-chick-lit"
                                },
                                {
                                    "0": "Teacher Man (Frank McCourt, #3)",
                                    "1": "3.73",
                                    "2": "irish"
                                },
                                {
                                    "0": "Teacher Man (Frank McCourt, #3)",
                                    "1": "3.73",
                                    "2": "irish-authors"
                                },
                                {
                                    "0": "Teacher Man (Frank McCourt, #3)",
                                    "1": "3.73",
                                    "2": "irish-lit"
                                },
                                {
                                    "0": "Fever Pitch",
                                    "1": "3.72",
                                    "2": "irish"
                                },
                                {
                                    "0": "Skippy Dies",
                                    "1": "3.72",
                                    "2": "irish"
                                },
                                {
                                    "0": "Skippy Dies",
                                    "1": "3.72",
                                    "2": "irish-fiction"
                                },
                                {
                                    "0": "Skippy Dies",
                                    "1": "3.72",
                                    "2": "irish-lit"
                                },
                                {
                                    "0": "Skippy Dies",
                                    "1": "3.72",
                                    "2": "irish-literature"
                                },
                                {
                                    "0": "The Misremembered Man (Tailorstown #1)",
                                    "1": "3.72",
                                    "2": "irish"
                                },
                                {
                                    "0": "The Misremembered Man (Tailorstown #1)",
                                    "1": "3.72",
                                    "2": "irish-fiction"
                                },
                                {
                                    "0": "We Are Not Ourselves",
                                    "1": "3.7",
                                    "2": "irish"
                                },
                                {
                                    "0": "Slammerkin",
                                    "1": "3.69",
                                    "2": "irish"
                                },
                                {
                                    "0": "Sushi for Beginners",
                                    "1": "3.69",
                                    "2": "irish"
                                },
                                {
                                    "0": "Sushi for Beginners",
                                    "1": "3.69",
                                    "2": "irish-chick-lit"
                                },
                                {
                                    "0": "Thanks for the Memories",
                                    "1": "3.69",
                                    "2": "irish"
                                },
                                {
                                    "0": "The Gift",
                                    "1": "3.68",
                                    "2": "irish"
                                },
                                {
                                    "0": "The Gift",
                                    "1": "3.68",
                                    "2": "irish-authors"
                                },
                                {
                                    "0": "Nights of Rain and Stars",
                                    "1": "3.67",
                                    "2": "irish"
                                },
                                {
                                    "0": "Nights of Rain and Stars",
                                    "1": "3.67",
                                    "2": "irish-authors"
                                },
                                {
                                    "0": "Nights of Rain and Stars",
                                    "1": "3.67",
                                    "2": "irish-books"
                                },
                                {
                                    "0": "Nights of Rain and Stars",
                                    "1": "3.67",
                                    "2": "irish-fiction"
                                },
                                {
                                    "0": "Nights of Rain and Stars",
                                    "1": "3.67",
                                    "2": "irish-literature"
                                },
                                {
                                    "0": "A Place Called Here",
                                    "1": "3.66",
                                    "2": "irish"
                                },
                                {
                                    "0": "The Book of Tomorrow",
                                    "1": "3.66",
                                    "2": "irish"
                                },
                                {
                                    "0": "'Tis (Frank McCourt, #2)",
                                    "1": "3.66",
                                    "2": "irish"
                                },
                                {
                                    "0": "'Tis (Frank McCourt, #2)",
                                    "1": "3.66",
                                    "2": "irish-authors"
                                },
                                {
                                    "0": "'Tis (Frank McCourt, #2)",
                                    "1": "3.66",
                                    "2": "irish-lit"
                                },
                                {
                                    "0": "The Brightest Star in the Sky",
                                    "1": "3.65",
                                    "2": "irish"
                                },
                                {
                                    "0": "The Brightest Star in the Sky",
                                    "1": "3.65",
                                    "2": "irish-chick-lit"
                                },
                                {
                                    "0": "The Wonder",
                                    "1": "3.65",
                                    "2": "irish"
                                },
                                {
                                    "0": "The Wonder",
                                    "1": "3.65",
                                    "2": "irish-literature"
                                },
                                {
                                    "0": "Brooklyn",
                                    "1": "3.63",
                                    "2": "irish"
                                },
                                {
                                    "0": "Brooklyn",
                                    "1": "3.63",
                                    "2": "irish-authors"
                                },
                                {
                                    "0": "Brooklyn",
                                    "1": "3.63",
                                    "2": "irish-fiction"
                                },
                                {
                                    "0": "Brooklyn",
                                    "1": "3.63",
                                    "2": "irish-lit"
                                },
                                {
                                    "0": "Brooklyn",
                                    "1": "3.63",
                                    "2": "irish-literature"
                                },
                                {
                                    "0": "Instructions for a Heatwave",
                                    "1": "3.62",
                                    "2": "irish"
                                },
                                {
                                    "0": "Instructions for a Heatwave",
                                    "1": "3.62",
                                    "2": "irish-fiction"
                                },
                                {
                                    "0": "The Testament of Mary",
                                    "1": "3.61",
                                    "2": "irish"
                                },
                                {
                                    "0": "The Testament of Mary",
                                    "1": "3.61",
                                    "2": "irish-authors"
                                },
                                {
                                    "0": "The Testament of Mary",
                                    "1": "3.61",
                                    "2": "irish-fiction"
                                },
                                {
                                    "0": "The Testament of Mary",
                                    "1": "3.61",
                                    "2": "irish-lit"
                                },
                                {
                                    "0": "The Testament of Mary",
                                    "1": "3.61",
                                    "2": "irish-literature"
                                },
                                {
                                    "0": "A Portrait of the Artist as a Young Man",
                                    "1": "3.6",
                                    "2": "irish"
                                },
                                {
                                    "0": "A Portrait of the Artist as a Young Man",
                                    "1": "3.6",
                                    "2": "irish-lit"
                                },
                                {
                                    "0": "A Portrait of the Artist as a Young Man",
                                    "1": "3.6",
                                    "2": "irish-literature"
                                },
                                {
                                    "0": "Whitethorn Woods",
                                    "1": "3.59",
                                    "2": "irish"
                                },
                                {
                                    "0": "Whitethorn Woods",
                                    "1": "3.59",
                                    "2": "irish-authors"
                                },
                                {
                                    "0": "Whitethorn Woods",
                                    "1": "3.59",
                                    "2": "irish-books"
                                },
                                {
                                    "0": "Whitethorn Woods",
                                    "1": "3.59",
                                    "2": "irish-chick-lit"
                                },
                                {
                                    "0": "Whitethorn Woods",
                                    "1": "3.59",
                                    "2": "irish-fiction"
                                },
                                {
                                    "0": "Whitethorn Woods",
                                    "1": "3.59",
                                    "2": "irish-lit"
                                },
                                {
                                    "0": "Whitethorn Woods",
                                    "1": "3.59",
                                    "2": "irish-literature"
                                },
                                {
                                    "0": "Nora Webster",
                                    "1": "3.58",
                                    "2": "irish"
                                },
                                {
                                    "0": "Nora Webster",
                                    "1": "3.58",
                                    "2": "irish-authors"
                                },
                                {
                                    "0": "Nora Webster",
                                    "1": "3.58",
                                    "2": "irish-books"
                                },
                                {
                                    "0": "Nora Webster",
                                    "1": "3.58",
                                    "2": "irish-fiction"
                                },
                                {
                                    "0": "Nora Webster",
                                    "1": "3.58",
                                    "2": "irish-lit"
                                },
                                {
                                    "0": "Nora Webster",
                                    "1": "3.58",
                                    "2": "irish-literature"
                                },
                                {
                                    "0": "Gulliver's Travels",
                                    "1": "3.55",
                                    "2": "irish"
                                },
                                {
                                    "0": "Gulliver's Travels",
                                    "1": "3.55",
                                    "2": "irish-literature"
                                },
                                {
                                    "0": "The Woman Who Stole My Life",
                                    "1": "3.52",
                                    "2": "irish"
                                },
                                {
                                    "0": "The Sea",
                                    "1": "3.49",
                                    "2": "irish"
                                },
                                {
                                    "0": "The Sea",
                                    "1": "3.49",
                                    "2": "irish-authors"
                                },
                                {
                                    "0": "The Sea",
                                    "1": "3.49",
                                    "2": "irish-fiction"
                                },
                                {
                                    "0": "The Sea",
                                    "1": "3.49",
                                    "2": "irish-lit"
                                },
                                {
                                    "0": "The Sea",
                                    "1": "3.49",
                                    "2": "irish-literature"
                                },
                                {
                                    "0": "Netherland",
                                    "1": "3.4",
                                    "2": "irish"
                                },
                                {
                                    "0": "Maine",
                                    "1": "3.34",
                                    "2": "irish-americans"
                                },
                                {
                                    "0": "The Gathering",
                                    "1": "3.04",
                                    "2": "irish"
                                },
                                {
                                    "0": "The Gathering",
                                    "1": "3.04",
                                    "2": "irish-authors"
                                },
                                {
                                    "0": "The Gathering",
                                    "1": "3.04",
                                    "2": "irish-fiction"
                                },
                                {
                                    "0": "The Gathering",
                                    "1": "3.04",
                                    "2": "irish-lit"
                                },
                                {
                                    "0": "The Gathering",
                                    "1": "3.04",
                                    "2": "irish-literature"
                                }
                            ]
                        },
                        "text/html": [
                            "<table>",
                            "<tr><th>title</th><th>average_rating</th><th>tag_name</th></tr>",
                            "<tr><td>Sherlock Holmes and the Case of the Hound of the Baskervilles (Illustrated Classic Editions)</td><td>4.49</td><td>mysteries-british-irish-scottish</td></tr>",
                            "<tr><td>The Complete Works</td><td>4.49</td><td>classic-british-irish-lit</td></tr>",
                            "<tr><td>Complete Works of Oscar Wilde</td><td>4.45</td><td>irish</td></tr>",
                            "<tr><td>Complete Works of Oscar Wilde</td><td>4.45</td><td>irish-lit</td></tr>",
                            "<tr><td>Complete Works of Oscar Wilde</td><td>4.45</td><td>irish-literature</td></tr>",
                            "<tr><td>Dark Days (Skulduggery Pleasant, #4)</td><td>4.45</td><td>irish</td></tr>",
                            "<tr><td>Son of the Shadows (Sevenwaters, #2)</td><td>4.32</td><td>irish</td></tr>",
                            "<tr><td>The Importance of Being Earnest and Other Plays</td><td>4.26</td><td>irish</td></tr>",
                            "<tr><td>The Importance of Being Earnest and Other Plays</td><td>4.26</td><td>irish-lit</td></tr>",
                            "<tr><td>The Importance of Being Earnest and Other Plays</td><td>4.26</td><td>irish-literature</td></tr>",
                            "<tr><td>The Collected Poems of W.B. Yeats</td><td>4.25</td><td>irish</td></tr>",
                            "<tr><td>The Collected Poems of W.B. Yeats</td><td>4.25</td><td>irish-lit</td></tr>",
                            "<tr><td>The Collected Poems of W.B. Yeats</td><td>4.25</td><td>irish-literature</td></tr>",
                            "<tr><td>Trinity</td><td>4.23</td><td>irish</td></tr>",
                            "<tr><td>Trinity</td><td>4.23</td><td>irish-fiction</td></tr>",
                            "<tr><td>Trinity</td><td>4.23</td><td>irish-history</td></tr>",
                            "<tr><td>Trinity</td><td>4.23</td><td>irish-lit</td></tr>",
                            "<tr><td>Trinity</td><td>4.23</td><td>irish-literature</td></tr>",
                            "<tr><td>Jewels of the Sun (Gallaghers of Ardmore, #1)</td><td>4.22</td><td>irish</td></tr>",
                            "<tr><td>The Happy Prince</td><td>4.22</td><td>irish</td></tr>",
                            "<tr><td>The Happy Prince</td><td>4.22</td><td>irish-authors</td></tr>",
                            "<tr><td>The Happy Prince</td><td>4.22</td><td>irish-literature</td></tr>",
                            "<tr><td>Born in Fire (Born In Trilogy, #1)</td><td>4.21</td><td>irish</td></tr>",
                            "<tr><td>Tears of the Moon (Gallaghers of Ardmore / Irish Trilogy, #2)</td><td>4.19</td><td>irish</td></tr>",
                            "<tr><td>The Importance of Being Earnest</td><td>4.17</td><td>irish</td></tr>",
                            "<tr><td>The Importance of Being Earnest</td><td>4.17</td><td>irish-literature</td></tr>",
                            "<tr><td>Airman</td><td>4.14</td><td>irish</td></tr>",
                            "<tr><td>Heart of the Sea (Gallaghers of Ardmore / Irish Trilogy, #3)</td><td>4.14</td><td>irish</td></tr>",
                            "<tr><td>Born in Ice (Born In Trilogy, #2)</td><td>4.13</td><td>irish</td></tr>",
                            "<tr><td>The Picture of Dorian Gray: A Graphic Novel</td><td>4.12</td><td>irish-pleasure</td></tr>",
                            "<tr><td>Captains and the Kings</td><td>4.11</td><td>irish-americans</td></tr>",
                            "<tr><td>The Boy in the Striped Pajamas</td><td>4.1</td><td>irish</td></tr>",
                            "<tr><td>The Dead</td><td>4.09</td><td>british-irish</td></tr>",
                            "<tr><td>The Dead</td><td>4.09</td><td>irish</td></tr>",
                            "<tr><td>The Dead</td><td>4.09</td><td>irish-lit</td></tr>",
                            "<tr><td>The Dead</td><td>4.09</td><td>irish-literature</td></tr>",
                            "<tr><td>All Souls: A Family Story from Southie</td><td>4.07</td><td>irish</td></tr>",
                            "<tr><td>All Souls: A Family Story from Southie</td><td>4.07</td><td>irish-americans</td></tr>",
                            "<tr><td>Angela's Ashes (Frank McCourt, #1)</td><td>4.07</td><td>irish</td></tr>",
                            "<tr><td>Angela's Ashes (Frank McCourt, #1)</td><td>4.07</td><td>irish-lit</td></tr>",
                            "<tr><td>Angela's Ashes (Frank McCourt, #1)</td><td>4.07</td><td>irish-literature</td></tr>",
                            "<tr><td>Born in Shame (Born In Trilogy, #3)</td><td>4.07</td><td>irish</td></tr>",
                            "<tr><td>The Picture of Dorian Gray</td><td>4.06</td><td>irish</td></tr>",
                            "<tr><td>The Picture of Dorian Gray</td><td>4.06</td><td>irish-literature</td></tr>",
                            "<tr><td>A Modest Proposal</td><td>4.05</td><td>irish</td></tr>",
                            "<tr><td>A Modest Proposal</td><td>4.05</td><td>irish-lit</td></tr>",
                            "<tr><td>A Modest Proposal</td><td>4.05</td><td>irish-literature</td></tr>",
                            "<tr><td>The Likeness (Dublin Murder Squad, #2)</td><td>4.05</td><td>irish</td></tr>",
                            "<tr><td>A Modest Proposal and Other Satirical Works</td><td>4.04</td><td>irish</td></tr>",
                            "<tr><td>A Modest Proposal and Other Satirical Works</td><td>4.04</td><td>irish-lit</td></tr>",
                            "<tr><td>A Modest Proposal and Other Satirical Works</td><td>4.04</td><td>irish-literature</td></tr>",
                            "<tr><td>The Opal Deception  (Artemis Fowl, #4)</td><td>4.04</td><td>irish</td></tr>",
                            "<tr><td>An Ideal Husband</td><td>4.03</td><td>irish</td></tr>",
                            "<tr><td>An Ideal Husband</td><td>4.03</td><td>irish-lit</td></tr>",
                            "<tr><td>An Ideal Husband</td><td>4.03</td><td>irish-literature</td></tr>",
                            "<tr><td>How to Fall in Love</td><td>4.02</td><td>irish</td></tr>",
                            "<tr><td>How to Fall in Love</td><td>4.02</td><td>irish-authors</td></tr>",
                            "<tr><td>The Third Policeman</td><td>4.02</td><td>irish</td></tr>",
                            "<tr><td>The Third Policeman</td><td>4.02</td><td>irish-authors</td></tr>",
                            "<tr><td>The Third Policeman</td><td>4.02</td><td>irish-fiction</td></tr>",
                            "<tr><td>The Third Policeman</td><td>4.02</td><td>irish-lit</td></tr>",
                            "<tr><td>The Third Policeman</td><td>4.02</td><td>irish-literature</td></tr>",
                            "<tr><td>P.S. I Love You</td><td>4.01</td><td>irish</td></tr>",
                            "<tr><td>Pygmalion and Three Other Plays</td><td>4.01</td><td>irish</td></tr>",
                            "<tr><td>Pygmalion and Three Other Plays</td><td>4.01</td><td>irish-literature</td></tr>",
                            "<tr><td>The Lost Colony (Artemis Fowl, #5)</td><td>4.01</td><td>irish</td></tr>",
                            "<tr><td>Circle of Friends</td><td>4</td><td>irish</td></tr>",
                            "<tr><td>Circle of Friends</td><td>4</td><td>irish-authors</td></tr>",
                            "<tr><td>Circle of Friends</td><td>4</td><td>irish-fiction</td></tr>",
                            "<tr><td>Circle of Friends</td><td>4</td><td>irish-lit</td></tr>",
                            "<tr><td>Circle of Friends</td><td>4</td><td>irish-literature</td></tr>",
                            "<tr><td>Dracula</td><td>3.98</td><td>irish</td></tr>",
                            "<tr><td>Evening Class</td><td>3.98</td><td>ireland-irish</td></tr>",
                            "<tr><td>Evening Class</td><td>3.98</td><td>irish</td></tr>",
                            "<tr><td>Evening Class</td><td>3.98</td><td>irish-author</td></tr>",
                            "<tr><td>Evening Class</td><td>3.98</td><td>irish-authors</td></tr>",
                            "<tr><td>Evening Class</td><td>3.98</td><td>irish-books</td></tr>",
                            "<tr><td>Evening Class</td><td>3.98</td><td>irish-fiction</td></tr>",
                            "<tr><td>Evening Class</td><td>3.98</td><td>irish-literature</td></tr>",
                            "<tr><td>The Book of Lost Things</td><td>3.98</td><td>irish</td></tr>",
                            "<tr><td>The Trespasser (Dublin Murder Squad #6)</td><td>3.98</td><td>irish</td></tr>",
                            "<tr><td>Faithful Place (Dublin Murder Squad, #3)</td><td>3.97</td><td>irish</td></tr>",
                            "<tr><td>Love, Rosie</td><td>3.95</td><td>irish</td></tr>",
                            "<tr><td>The Commitments</td><td>3.95</td><td>irish</td></tr>",
                            "<tr><td>The Commitments</td><td>3.95</td><td>irish-authors</td></tr>",
                            "<tr><td>The Commitments</td><td>3.95</td><td>irish-fiction</td></tr>",
                            "<tr><td>The Commitments</td><td>3.95</td><td>irish-lit</td></tr>",
                            "<tr><td>The Commitments</td><td>3.95</td><td>irish-literature</td></tr>",
                            "<tr><td>The Arctic Incident (Artemis Fowl, #2)</td><td>3.94</td><td>irish</td></tr>",
                            "<tr><td>Let the Great World Spin</td><td>3.93</td><td>irish</td></tr>",
                            "<tr><td>Rachel's Holiday (Walsh Family, #2)</td><td>3.93</td><td>irish</td></tr>",
                            "<tr><td>Rachel's Holiday (Walsh Family, #2)</td><td>3.93</td><td>irish-authors</td></tr>",
                            "<tr><td>Rachel's Holiday (Walsh Family, #2)</td><td>3.93</td><td>irish-chick-lit</td></tr>",
                            "<tr><td>Scarlet Feather</td><td>3.93</td><td>irish</td></tr>",
                            "<tr><td>Scarlet Feather</td><td>3.93</td><td>irish-authors</td></tr>",
                            "<tr><td>Scarlet Feather</td><td>3.93</td><td>irish-fiction</td></tr>",
                            "<tr><td>Scarlet Feather</td><td>3.93</td><td>irish-lit</td></tr>",
                            "<tr><td>Broken Harbour (Dublin Murder Squad, #4)</td><td>3.92</td><td>irish</td></tr>",
                            "<tr><td>Anybody Out There? (Walsh Family, #4)</td><td>3.91</td><td>irish</td></tr>",
                            "<tr><td>Anybody Out There? (Walsh Family, #4)</td><td>3.91</td><td>irish-chick-lit</td></tr>",
                            "<tr><td>Lady Windermere's Fan</td><td>3.9</td><td>irish</td></tr>",
                            "<tr><td>Lady Windermere's Fan</td><td>3.9</td><td>irish-lit</td></tr>",
                            "<tr><td>Lady Windermere's Fan</td><td>3.9</td><td>irish-literature</td></tr>",
                            "<tr><td>Pygmalion</td><td>3.9</td><td>irish</td></tr>",
                            "<tr><td>Pygmalion</td><td>3.9</td><td>irish-literature</td></tr>",
                            "<tr><td>The Sea, the Sea</td><td>3.9</td><td>irish</td></tr>",
                            "<tr><td>The Sea, the Sea</td><td>3.9</td><td>irish-lit</td></tr>",
                            "<tr><td>The Sea, the Sea</td><td>3.9</td><td>irish-literature</td></tr>",
                            "<tr><td>The Canterville Ghost</td><td>3.89</td><td>irish</td></tr>",
                            "<tr><td>The Canterville Ghost</td><td>3.89</td><td>irish-literature</td></tr>",
                            "<tr><td>The Copper Beech</td><td>3.89</td><td>irish</td></tr>",
                            "<tr><td>The Copper Beech</td><td>3.89</td><td>irish-author</td></tr>",
                            "<tr><td>The Copper Beech</td><td>3.89</td><td>irish-authors</td></tr>",
                            "<tr><td>The Copper Beech</td><td>3.89</td><td>irish-fiction</td></tr>",
                            "<tr><td>The Copper Beech</td><td>3.89</td><td>irish-literature</td></tr>",
                            "<tr><td>The Glass Lake</td><td>3.89</td><td>irish</td></tr>",
                            "<tr><td>The Glass Lake</td><td>3.89</td><td>irish-authors</td></tr>",
                            "<tr><td>The Glass Lake</td><td>3.89</td><td>irish-books</td></tr>",
                            "<tr><td>The Glass Lake</td><td>3.89</td><td>irish-fiction</td></tr>",
                            "<tr><td>Light a Penny Candle</td><td>3.88</td><td>irish</td></tr>",
                            "<tr><td>Light a Penny Candle</td><td>3.88</td><td>irish-authors</td></tr>",
                            "<tr><td>Light a Penny Candle</td><td>3.88</td><td>irish-fiction</td></tr>",
                            "<tr><td>Light a Penny Candle</td><td>3.88</td><td>irish-lit</td></tr>",
                            "<tr><td>Light a Penny Candle</td><td>3.88</td><td>irish-literature</td></tr>",
                            "<tr><td>Quentins</td><td>3.88</td><td>irish</td></tr>",
                            "<tr><td>Quentins</td><td>3.88</td><td>irish-author</td></tr>",
                            "<tr><td>Quentins</td><td>3.88</td><td>irish-books</td></tr>",
                            "<tr><td>Quentins</td><td>3.88</td><td>irish-fiction</td></tr>",
                            "<tr><td>Quentins</td><td>3.88</td><td>irish-lit</td></tr>",
                            "<tr><td>Quentins</td><td>3.88</td><td>irish-literature</td></tr>",
                            "<tr><td>Quentins</td><td>3.88</td><td>irish-writers</td></tr>",
                            "<tr><td>Tara Road</td><td>3.88</td><td>irish</td></tr>",
                            "<tr><td>Tara Road</td><td>3.88</td><td>irish-authors</td></tr>",
                            "<tr><td>Tara Road</td><td>3.88</td><td>irish-fiction</td></tr>",
                            "<tr><td>Tara Road</td><td>3.88</td><td>irish-lit</td></tr>",
                            "<tr><td>Tara Road</td><td>3.88</td><td>irish-literature</td></tr>",
                            "<tr><td>The Hand That First Held Mine</td><td>3.87</td><td>irish</td></tr>",
                            "<tr><td>Dubliners</td><td>3.85</td><td>irish</td></tr>",
                            "<tr><td>Dubliners</td><td>3.85</td><td>irish-authors</td></tr>",
                            "<tr><td>Dubliners</td><td>3.85</td><td>irish-lit</td></tr>",
                            "<tr><td>Dubliners</td><td>3.85</td><td>irish-literature</td></tr>",
                            "<tr><td>The Time of My Life</td><td>3.85</td><td>irish</td></tr>",
                            "<tr><td>If You Could See Me Now</td><td>3.84</td><td>irish</td></tr>",
                            "<tr><td>If You Could See Me Now</td><td>3.84</td><td>irish-lit</td></tr>",
                            "<tr><td>Carmilla</td><td>3.83</td><td>irish</td></tr>",
                            "<tr><td>Carmilla</td><td>3.83</td><td>irish-literature</td></tr>",
                            "<tr><td>The Girl Who Came Home</td><td>3.83</td><td>irish</td></tr>",
                            "<tr><td>The Secret Place (Dublin Murder Squad, #5)</td><td>3.83</td><td>irish</td></tr>",
                            "<tr><td>How the Irish Saved Civilization</td><td>3.81</td><td>celtic-irish</td></tr>",
                            "<tr><td>How the Irish Saved Civilization</td><td>3.81</td><td>irish</td></tr>",
                            "<tr><td>How the Irish Saved Civilization</td><td>3.81</td><td>irish-history</td></tr>",
                            "<tr><td>How the Irish Saved Civilization</td><td>3.81</td><td>irish-lit</td></tr>",
                            "<tr><td>King Henry IV, Part 1 (Wars of the Roses, #2)</td><td>3.81</td><td>irish</td></tr>",
                            "<tr><td>TransAtlantic</td><td>3.81</td><td>irish</td></tr>",
                            "<tr><td>TransAtlantic</td><td>3.81</td><td>irish-authors</td></tr>",
                            "<tr><td>TransAtlantic</td><td>3.81</td><td>irish-fiction</td></tr>",
                            "<tr><td>TransAtlantic</td><td>3.81</td><td>irish-lit</td></tr>",
                            "<tr><td>TransAtlantic</td><td>3.81</td><td>irish-literature</td></tr>",
                            "<tr><td>Waiting for Godot</td><td>3.81</td><td>irish</td></tr>",
                            "<tr><td>Waiting for Godot</td><td>3.81</td><td>irish-lit</td></tr>",
                            "<tr><td>Waiting for Godot</td><td>3.81</td><td>irish-literature</td></tr>",
                            "<tr><td>A Week in Winter</td><td>3.79</td><td>irish</td></tr>",
                            "<tr><td>A Week in Winter</td><td>3.79</td><td>irish-fiction</td></tr>",
                            "<tr><td>Watermelon (Walsh Family, #1)</td><td>3.79</td><td>irish</td></tr>",
                            "<tr><td>Last Chance Saloon</td><td>3.78</td><td>irish</td></tr>",
                            "<tr><td>Last Chance Saloon</td><td>3.78</td><td>irish-chick-lit</td></tr>",
                            "<tr><td>Minding Frankie</td><td>3.78</td><td>irish</td></tr>",
                            "<tr><td>Minding Frankie</td><td>3.78</td><td>irish-books</td></tr>",
                            "<tr><td>Minding Frankie</td><td>3.78</td><td>irish-fiction</td></tr>",
                            "<tr><td>Round Ireland with a Fridge</td><td>3.78</td><td>irish</td></tr>",
                            "<tr><td>The Other Side of the Story</td><td>3.77</td><td>irish</td></tr>",
                            "<tr><td>The Other Side of the Story</td><td>3.77</td><td>irish-chick-lit</td></tr>",
                            "<tr><td>Someone</td><td>3.76</td><td>irish</td></tr>",
                            "<tr><td>Under the Net</td><td>3.76</td><td>irish</td></tr>",
                            "<tr><td>Under the Net</td><td>3.76</td><td>irish-literature</td></tr>",
                            "<tr><td>One Hundred Names</td><td>3.75</td><td>irish</td></tr>",
                            "<tr><td>Paddy Clarke Ha Ha Ha</td><td>3.75</td><td>irish</td></tr>",
                            "<tr><td>Paddy Clarke Ha Ha Ha</td><td>3.75</td><td>irish-authors</td></tr>",
                            "<tr><td>Paddy Clarke Ha Ha Ha</td><td>3.75</td><td>irish-fiction</td></tr>",
                            "<tr><td>Paddy Clarke Ha Ha Ha</td><td>3.75</td><td>irish-lit</td></tr>",
                            "<tr><td>Paddy Clarke Ha Ha Ha</td><td>3.75</td><td>irish-literature</td></tr>",
                            "<tr><td>The Secret Scripture</td><td>3.75</td><td>irish</td></tr>",
                            "<tr><td>The Secret Scripture</td><td>3.75</td><td>irish-authors</td></tr>",
                            "<tr><td>The Secret Scripture</td><td>3.75</td><td>irish-fiction</td></tr>",
                            "<tr><td>The Secret Scripture</td><td>3.75</td><td>irish-lit</td></tr>",
                            "<tr><td>The Secret Scripture</td><td>3.75</td><td>irish-literature</td></tr>",
                            "<tr><td>This Charming Man</td><td>3.75</td><td>irish</td></tr>",
                            "<tr><td>This Charming Man</td><td>3.75</td><td>irish-authors</td></tr>",
                            "<tr><td>This Charming Man</td><td>3.75</td><td>irish-chick-lit</td></tr>",
                            "<tr><td>This Charming Man</td><td>3.75</td><td>irish-literature</td></tr>",
                            "<tr><td>In the Woods (Dublin Murder Squad, #1)</td><td>3.74</td><td>irish</td></tr>",
                            "<tr><td>Lucy Sullivan Is Getting Married</td><td>3.74</td><td>irish</td></tr>",
                            "<tr><td>Lucy Sullivan Is Getting Married</td><td>3.74</td><td>irish-authors</td></tr>",
                            "<tr><td>Lucy Sullivan Is Getting Married</td><td>3.74</td><td>irish-chick-lit</td></tr>",
                            "<tr><td>The Life and Opinions of Tristram Shandy, Gentleman</td><td>3.74</td><td>irish</td></tr>",
                            "<tr><td>Ulysses</td><td>3.74</td><td>irish</td></tr>",
                            "<tr><td>Ulysses</td><td>3.74</td><td>irish-lit</td></tr>",
                            "<tr><td>Ulysses</td><td>3.74</td><td>irish-literature</td></tr>",
                            "<tr><td> Angels (Walsh Family, #3)</td><td>3.73</td><td>irish</td></tr>",
                            "<tr><td> Angels (Walsh Family, #3)</td><td>3.73</td><td>irish-chick-lit</td></tr>",
                            "<tr><td>Teacher Man (Frank McCourt, #3)</td><td>3.73</td><td>irish</td></tr>",
                            "<tr><td>Teacher Man (Frank McCourt, #3)</td><td>3.73</td><td>irish-authors</td></tr>",
                            "<tr><td>Teacher Man (Frank McCourt, #3)</td><td>3.73</td><td>irish-lit</td></tr>",
                            "<tr><td>Fever Pitch</td><td>3.72</td><td>irish</td></tr>",
                            "<tr><td>Skippy Dies</td><td>3.72</td><td>irish</td></tr>",
                            "<tr><td>Skippy Dies</td><td>3.72</td><td>irish-fiction</td></tr>",
                            "<tr><td>Skippy Dies</td><td>3.72</td><td>irish-lit</td></tr>",
                            "<tr><td>Skippy Dies</td><td>3.72</td><td>irish-literature</td></tr>",
                            "<tr><td>The Misremembered Man (Tailorstown #1)</td><td>3.72</td><td>irish</td></tr>",
                            "<tr><td>The Misremembered Man (Tailorstown #1)</td><td>3.72</td><td>irish-fiction</td></tr>",
                            "<tr><td>We Are Not Ourselves</td><td>3.7</td><td>irish</td></tr>",
                            "<tr><td>Slammerkin</td><td>3.69</td><td>irish</td></tr>",
                            "<tr><td>Sushi for Beginners</td><td>3.69</td><td>irish</td></tr>",
                            "<tr><td>Sushi for Beginners</td><td>3.69</td><td>irish-chick-lit</td></tr>",
                            "<tr><td>Thanks for the Memories</td><td>3.69</td><td>irish</td></tr>",
                            "<tr><td>The Gift</td><td>3.68</td><td>irish</td></tr>",
                            "<tr><td>The Gift</td><td>3.68</td><td>irish-authors</td></tr>",
                            "<tr><td>Nights of Rain and Stars</td><td>3.67</td><td>irish</td></tr>",
                            "<tr><td>Nights of Rain and Stars</td><td>3.67</td><td>irish-authors</td></tr>",
                            "<tr><td>Nights of Rain and Stars</td><td>3.67</td><td>irish-books</td></tr>",
                            "<tr><td>Nights of Rain and Stars</td><td>3.67</td><td>irish-fiction</td></tr>",
                            "<tr><td>Nights of Rain and Stars</td><td>3.67</td><td>irish-literature</td></tr>",
                            "<tr><td>A Place Called Here</td><td>3.66</td><td>irish</td></tr>",
                            "<tr><td>The Book of Tomorrow</td><td>3.66</td><td>irish</td></tr>",
                            "<tr><td>'Tis (Frank McCourt, #2)</td><td>3.66</td><td>irish</td></tr>",
                            "<tr><td>'Tis (Frank McCourt, #2)</td><td>3.66</td><td>irish-authors</td></tr>",
                            "<tr><td>'Tis (Frank McCourt, #2)</td><td>3.66</td><td>irish-lit</td></tr>",
                            "<tr><td>The Brightest Star in the Sky</td><td>3.65</td><td>irish</td></tr>",
                            "<tr><td>The Brightest Star in the Sky</td><td>3.65</td><td>irish-chick-lit</td></tr>",
                            "<tr><td>The Wonder</td><td>3.65</td><td>irish</td></tr>",
                            "<tr><td>The Wonder</td><td>3.65</td><td>irish-literature</td></tr>",
                            "<tr><td>Brooklyn</td><td>3.63</td><td>irish</td></tr>",
                            "<tr><td>Brooklyn</td><td>3.63</td><td>irish-authors</td></tr>",
                            "<tr><td>Brooklyn</td><td>3.63</td><td>irish-fiction</td></tr>",
                            "<tr><td>Brooklyn</td><td>3.63</td><td>irish-lit</td></tr>",
                            "<tr><td>Brooklyn</td><td>3.63</td><td>irish-literature</td></tr>",
                            "<tr><td>Instructions for a Heatwave</td><td>3.62</td><td>irish</td></tr>",
                            "<tr><td>Instructions for a Heatwave</td><td>3.62</td><td>irish-fiction</td></tr>",
                            "<tr><td>The Testament of Mary</td><td>3.61</td><td>irish</td></tr>",
                            "<tr><td>The Testament of Mary</td><td>3.61</td><td>irish-authors</td></tr>",
                            "<tr><td>The Testament of Mary</td><td>3.61</td><td>irish-fiction</td></tr>",
                            "<tr><td>The Testament of Mary</td><td>3.61</td><td>irish-lit</td></tr>",
                            "<tr><td>The Testament of Mary</td><td>3.61</td><td>irish-literature</td></tr>",
                            "<tr><td>A Portrait of the Artist as a Young Man</td><td>3.6</td><td>irish</td></tr>",
                            "<tr><td>A Portrait of the Artist as a Young Man</td><td>3.6</td><td>irish-lit</td></tr>",
                            "<tr><td>A Portrait of the Artist as a Young Man</td><td>3.6</td><td>irish-literature</td></tr>",
                            "<tr><td>Whitethorn Woods</td><td>3.59</td><td>irish</td></tr>",
                            "<tr><td>Whitethorn Woods</td><td>3.59</td><td>irish-authors</td></tr>",
                            "<tr><td>Whitethorn Woods</td><td>3.59</td><td>irish-books</td></tr>",
                            "<tr><td>Whitethorn Woods</td><td>3.59</td><td>irish-chick-lit</td></tr>",
                            "<tr><td>Whitethorn Woods</td><td>3.59</td><td>irish-fiction</td></tr>",
                            "<tr><td>Whitethorn Woods</td><td>3.59</td><td>irish-lit</td></tr>",
                            "<tr><td>Whitethorn Woods</td><td>3.59</td><td>irish-literature</td></tr>",
                            "<tr><td>Nora Webster</td><td>3.58</td><td>irish</td></tr>",
                            "<tr><td>Nora Webster</td><td>3.58</td><td>irish-authors</td></tr>",
                            "<tr><td>Nora Webster</td><td>3.58</td><td>irish-books</td></tr>",
                            "<tr><td>Nora Webster</td><td>3.58</td><td>irish-fiction</td></tr>",
                            "<tr><td>Nora Webster</td><td>3.58</td><td>irish-lit</td></tr>",
                            "<tr><td>Nora Webster</td><td>3.58</td><td>irish-literature</td></tr>",
                            "<tr><td>Gulliver's Travels</td><td>3.55</td><td>irish</td></tr>",
                            "<tr><td>Gulliver's Travels</td><td>3.55</td><td>irish-literature</td></tr>",
                            "<tr><td>The Woman Who Stole My Life</td><td>3.52</td><td>irish</td></tr>",
                            "<tr><td>The Sea</td><td>3.49</td><td>irish</td></tr>",
                            "<tr><td>The Sea</td><td>3.49</td><td>irish-authors</td></tr>",
                            "<tr><td>The Sea</td><td>3.49</td><td>irish-fiction</td></tr>",
                            "<tr><td>The Sea</td><td>3.49</td><td>irish-lit</td></tr>",
                            "<tr><td>The Sea</td><td>3.49</td><td>irish-literature</td></tr>",
                            "<tr><td>Netherland</td><td>3.4</td><td>irish</td></tr>",
                            "<tr><td>Maine</td><td>3.34</td><td>irish-americans</td></tr>",
                            "<tr><td>The Gathering</td><td>3.04</td><td>irish</td></tr>",
                            "<tr><td>The Gathering</td><td>3.04</td><td>irish-authors</td></tr>",
                            "<tr><td>The Gathering</td><td>3.04</td><td>irish-fiction</td></tr>",
                            "<tr><td>The Gathering</td><td>3.04</td><td>irish-lit</td></tr>",
                            "<tr><td>The Gathering</td><td>3.04</td><td>irish-literature</td></tr>",
                            "</table>"
                        ]
                    }
                }
            ],
            "execution_count": 16
        },
        {
            "cell_type": "code",
            "source": [
                ""
            ],
            "metadata": {
                "azdata_cell_guid": "3aaae3a8-eff7-4b37-8970-2d913a67239b",
                "language": "sql"
            },
            "outputs": [],
            "execution_count": null
        },
        {
            "cell_type": "markdown",
            "source": [
                "### **Summary of event 2:**\n",
                "\n",
                "Double Click to edit."
            ],
            "metadata": {
                "azdata_cell_guid": "99d518dc-cd8b-42d6-9a9d-708771c9aa99"
            },
            "attachments": {}
        }
    ]
}